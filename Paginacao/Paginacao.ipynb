{
 "cells": [
  {
   "cell_type": "code",
   "execution_count": 4,
   "metadata": {},
   "outputs": [],
   "source": [
    "import json\n",
    "from xata.client import XataClient\n",
    "api_key = \"xau_JnLwtwa2mPlTsfgauI2FICEe7BvRB4Or2\"\n",
    "##api_key = os.getenv(\"XATA_API_KEY\")\n",
    "if api_key is None:\n",
    "    raise Exception(\"API key não encontrada\")\n",
    "\n",
    "xata = XataClient(api_key=api_key, db_url=\"https://Gabriel-Moura-s-workspace-a5ttv7.us-east-1.xata.sh/db/BDPJT1:main\")\n",
    "\n",
    "def fetch_paginated_data(page_size=10, output_file=\"output.json\"):\n",
    "    all_records = []  \n",
    "\n",
    "    records = xata.data().query(\"resources\", {\n",
    "        \"page\": {\n",
    "            \"size\": page_size \n",
    "        }\n",
    "    })\n",
    "\n",
    "    while True:\n",
    "        if 'records' in records:\n",
    "            all_records.extend(records['records'])\n",
    "\n",
    "        if records.has_more_results():\n",
    "            next_cursor = records.get_cursor()\n",
    "            records = xata.data().query(\"resources\", {\n",
    "                \"page\": {\n",
    "                    \"after\": next_cursor\n",
    "                }\n",
    "            })\n",
    "        else:\n",
    "            break\n",
    "\n",
    "    with open(output_file, 'w', encoding='utf-8') as file:\n",
    "        json.dump(all_records, file, ensure_ascii=False, indent=4)\n",
    "\n",
    "fetch_paginated_data(10)\n"
   ]
  }
 ],
 "metadata": {
  "kernelspec": {
   "display_name": "Python 3",
   "language": "python",
   "name": "python3"
  },
  "language_info": {
   "codemirror_mode": {
    "name": "ipython",
    "version": 3
   },
   "file_extension": ".py",
   "mimetype": "text/x-python",
   "name": "python",
   "nbconvert_exporter": "python",
   "pygments_lexer": "ipython3",
   "version": "3.11.9"
  }
 },
 "nbformat": 4,
 "nbformat_minor": 2
}
