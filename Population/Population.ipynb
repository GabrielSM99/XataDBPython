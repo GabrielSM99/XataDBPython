{
 "cells": [
  {
   "cell_type": "markdown",
   "metadata": {},
   "source": [
    "GABRIEL SODRE DE MOURA "
   ]
  },
  {
   "cell_type": "code",
   "execution_count": 1,
   "metadata": {},
   "outputs": [
    {
     "name": "stdout",
     "output_type": "stream",
     "text": [
      "Requirement already satisfied: faker in c:\\users\\gabriel\\appdata\\local\\packages\\pythonsoftwarefoundation.python.3.11_qbz5n2kfra8p0\\localcache\\local-packages\\python311\\site-packages (30.8.2)\n",
      "Requirement already satisfied: python-dateutil>=2.4 in c:\\users\\gabriel\\appdata\\local\\packages\\pythonsoftwarefoundation.python.3.11_qbz5n2kfra8p0\\localcache\\local-packages\\python311\\site-packages (from faker) (2.8.2)\n",
      "Requirement already satisfied: typing-extensions in c:\\users\\gabriel\\appdata\\local\\packages\\pythonsoftwarefoundation.python.3.11_qbz5n2kfra8p0\\localcache\\local-packages\\python311\\site-packages (from faker) (4.8.0)\n",
      "Requirement already satisfied: six>=1.5 in c:\\users\\gabriel\\appdata\\local\\packages\\pythonsoftwarefoundation.python.3.11_qbz5n2kfra8p0\\localcache\\local-packages\\python311\\site-packages (from python-dateutil>=2.4->faker) (1.16.0)\n",
      "Note: you may need to restart the kernel to use updated packages.\n"
     ]
    },
    {
     "name": "stderr",
     "output_type": "stream",
     "text": [
      "\n",
      "[notice] A new release of pip is available: 23.3.1 -> 24.3.1\n",
      "[notice] To update, run: C:\\Users\\Gabriel\\AppData\\Local\\Microsoft\\WindowsApps\\PythonSoftwareFoundation.Python.3.11_qbz5n2kfra8p0\\python.exe -m pip install --upgrade pip\n"
     ]
    }
   ],
   "source": [
    "pip install faker"
   ]
  },
  {
   "cell_type": "code",
   "execution_count": 2,
   "metadata": {},
   "outputs": [],
   "source": [
    "import os\n",
    "from xata.client import XataClient\n",
    "from xata.helpers import BulkProcessor\n",
    "from dotenv import load_dotenv\n",
    "import random\n",
    "from faker import Faker \n",
    "\n",
    "\n",
    "load_dotenv()\n",
    "\n",
    "api_key = \"xau_JnLwtwa2mPlTsfgauI2FICEe7BvRB4Or2\"\n",
    "##api_key = os.getenv(\"XATA_API_KEY\")\n",
    "if api_key is None:\n",
    "    raise Exception(\"API key não encontrada\")\n",
    "\n",
    "xata = XataClient(api_key=api_key, db_url=\"https://Gabriel-Moura-s-workspace-a5ttv7.us-east-1.xata.sh/db/BDPJT1:main\")\n",
    "bp = BulkProcessor(xata)\n",
    "fake = Faker()\n",
    "\n",
    "\n",
    "\n",
    "descriptions_list = [\n",
    "    \"Audierunt ab Ipiranga ad ripas placidas\",\n",
    "    \"Populi heroici, fortis, recens nati.\",\n",
    "    \"Et sol libertatis, radiis fulgidis\",\n",
    "    \"Splenduit in caelo patriae in hoc momento.\",\n",
    "    \"Si vinculum aequalitatis\",\n",
    "    \"Vicimus cum brachio forti\",\n",
    "    \"In sinu tuo, o libertas\",\n",
    "    \"Provocavit cor nostrum ipsam mortem!\",\n",
    "    \"O patria amata, adorata, salve! salve!\",\n",
    "    \"Brasil, somnium intensum, fulgor vividus\",\n",
    "    \"Amoris et spei ad terram descendit.\",\n",
    "    \"Si futurum est gloria, praeteritum suum\",\n",
    "    \"Patria heroica gloriam a conquestu.\",\n",
    "    \"Sol libertatis splendet in hoc caelo immenso\",\n",
    "    \"Patria amata, salve! salve!\"\n",
    "]\n",
    "\n",
    "status_list = [\"active\", \"inactive\", \"pending\"]\n",
    "\n",
    "num_records = 5000\n",
    "\n",
    "data = [\n",
    "    {\n",
    "        \"name\": fake.name(),\n",
    "        \"discription\": random.choice(descriptions_list),\n",
    "        \"status\": random.choice(status_list),\n",
    "        \"email\": fake.email(),\n",
    "        \"idade\": random.randint(1, 99),\n",
    "        \"address\": fake.address()\n",
    "    }\n",
    "    for _ in range(num_records)\n",
    "]\n",
    "\n",
    "bp.put_records(\"resources\", data)\n",
    "\n",
    "bp.flush_queue()\n"
   ]
  }
 ],
 "metadata": {
  "kernelspec": {
   "display_name": "Python 3",
   "language": "python",
   "name": "python3"
  },
  "language_info": {
   "codemirror_mode": {
    "name": "ipython",
    "version": 3
   },
   "file_extension": ".py",
   "mimetype": "text/x-python",
   "name": "python",
   "nbconvert_exporter": "python",
   "pygments_lexer": "ipython3",
   "version": "3.11.9"
  }
 },
 "nbformat": 4,
 "nbformat_minor": 2
}
